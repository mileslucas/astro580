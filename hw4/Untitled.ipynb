{
 "cells": [
  {
   "cell_type": "code",
   "execution_count": 1,
   "metadata": {},
   "outputs": [],
   "source": [
    "import numpy as np"
   ]
  },
  {
   "cell_type": "markdown",
   "metadata": {},
   "source": [
    "# Equations and boundary conditions\n",
    "$$\n",
    "\\frac{1}{\\xi^2} \\frac{d}{d\\xi}\\left( \\xi^2 \\frac{d\\theta_n}{d\\xi} \\right)=-\\theta_n^n\n",
    "$$\n",
    "\n",
    "$$\n",
    "\\theta_n(0)=1,\\quad \\frac{d\\theta_n}{d\\xi}=0\\text{ at }\\xi=0, \\quad \\theta_n \\rightarrow 0 \\text{ at surface}\n",
    "$$\n",
    "\n",
    "$$\n",
    "x=\\xi,\\quad y=\\theta_n,\\quad z=\\frac{d\\theta_n}{d\\xi}=\\frac{dy}{dx}\n",
    "$$\n",
    "\n",
    "$$\n",
    "y' = \\frac{dy}{dx}=z\n",
    "$$\n",
    "\n",
    "$$\n",
    "z' = \\frac{dz}{dx}=-y^n-\\frac{2}{x}z\n",
    "$$"
   ]
  },
  {
   "cell_type": "code",
   "execution_count": 13,
   "metadata": {},
   "outputs": [],
   "source": [
    "def func(x, theta, n):\n",
    "    y, z = theta\n",
    "    \n",
    "    f1 = z\n",
    "    f2 = -y**n - 2 / x * z  if x > 0 else 2 / 3 - y**n\n",
    "    \n",
    "    return f1, f2\n",
    "\n",
    "ns = np.linspace(2, 4, 10)\n",
    "funcs = (lambda t, theta: func(t, theta, n) for n in ns)"
   ]
  },
  {
   "cell_type": "code",
   "execution_count": null,
   "metadata": {},
   "outputs": [],
   "source": [
    "from scipy.integrate import solve_ivp\n",
    "\n",
    "x = np.linspace()"
   ]
  }
 ],
 "metadata": {
  "kernelspec": {
   "display_name": "Python 3",
   "language": "python",
   "name": "python3"
  },
  "language_info": {
   "codemirror_mode": {
    "name": "ipython",
    "version": 3
   },
   "file_extension": ".py",
   "mimetype": "text/x-python",
   "name": "python",
   "nbconvert_exporter": "python",
   "pygments_lexer": "ipython3",
   "version": "3.6.1"
  }
 },
 "nbformat": 4,
 "nbformat_minor": 2
}
